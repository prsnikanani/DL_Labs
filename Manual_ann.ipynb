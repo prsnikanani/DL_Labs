{
 "cells": [
  {
   "cell_type": "code",
   "execution_count": 5,
   "id": "7d3d43b1",
   "metadata": {},
   "outputs": [],
   "source": [
    "import numpy as np\n",
    "import pandas as pd"
   ]
  },
  {
   "cell_type": "code",
   "execution_count": 6,
   "id": "b062110a",
   "metadata": {},
   "outputs": [
    {
     "name": "stdout",
     "output_type": "stream",
     "text": [
      "[[ 1.62434536 -0.61175641 -0.52817175 -1.07296862  0.86540763 -2.3015387\n",
      "   1.74481176 -0.7612069   0.3190391  -0.24937038]\n",
      " [ 1.46210794 -2.06014071 -0.3224172  -0.38405435  1.13376944 -1.09989127\n",
      "  -0.17242821 -0.87785842  0.04221375  0.58281521]\n",
      " [-1.10061918  1.14472371  0.90159072  0.50249434  0.90085595 -0.68372786\n",
      "  -0.12289023 -0.93576943 -0.26788808  0.53035547]\n",
      " [-0.69166075 -0.39675353 -0.6871727  -0.84520564 -0.67124613 -0.0126646\n",
      "  -1.11731035  0.2344157   1.65980218  0.74204416]]\n"
     ]
    }
   ],
   "source": [
    "np.random.seed(1)\n",
    "X=np.random.randn(4,10)\n",
    "print(X)"
   ]
  },
  {
   "cell_type": "code",
   "execution_count": 7,
   "id": "bb48ed42",
   "metadata": {},
   "outputs": [
    {
     "name": "stdout",
     "output_type": "stream",
     "text": [
      "[[False False False  True  True False  True  True  True  True]]\n"
     ]
    }
   ],
   "source": [
    "y=(np.random.randn(1,10)>0)\n",
    "print(y)"
   ]
  },
  {
   "cell_type": "code",
   "execution_count": 20,
   "id": "56256b47",
   "metadata": {},
   "outputs": [],
   "source": [
    "\n",
    "def relu(z):\n",
    "    s=np.maximum(0,z)\n",
    "    return s\n",
    "\n",
    "\n",
    "def leakyrelu(z):\n",
    "    s=np.maximum(0.01*z,z)\n",
    "    return s\n",
    "\n",
    "\n",
    "def sigmoid(z):\n",
    "    s=1/(1+np.exp(-z))\n",
    "    return s"
   ]
  },
  {
   "cell_type": "code",
   "execution_count": 21,
   "id": "f0132403",
   "metadata": {},
   "outputs": [],
   "source": [
    "def layers_size(X,y,node1,node2,node3):\n",
    "    n_x=X.shape[0]\n",
    "    n_h1=node1\n",
    "    n_h2=node2\n",
    "    n_h3=node3\n",
    "\n",
    "    n_y=y.shape[0]\n",
    "    return n_x,n_h1,n_h2,n_h3,n_y"
   ]
  },
  {
   "cell_type": "code",
   "execution_count": 22,
   "id": "04d41eac",
   "metadata": {},
   "outputs": [],
   "source": [
    "\n",
    "def intz(n_x,n_h1,n_h2,n_h3,n_y):\n",
    "    w1=np.random.randn(n_h1,n_x)*0.01\n",
    "    b1=np.zeros((n_h1,1))\n",
    "    w2=np.random.randn(n_h2,n_h1)*0.01\n",
    "    b2=np.zeros((n_h2,1))\n",
    "    w3=np.random.randn(n_h3,n_h2)*0.01\n",
    "    w4=np.random.randn(n_y,n_h3)*0.01\n",
    "    b3=np.zeros((n_h3,1))\n",
    "    b4=np.zeros((n_y,1))\n",
    "    \n",
    "    parameters={'w1':w1,'b1':b1,'w2':w2,'b2':b2,'w3':w3,'b3':b3,'w4':w4,'b4':b4}\n",
    "    return parameters"
   ]
  },
  {
   "cell_type": "code",
   "execution_count": 23,
   "id": "33d92eb9",
   "metadata": {},
   "outputs": [],
   "source": [
    "## forward propogation\n",
    "\n",
    "def fwd(X,parameters):\n",
    "    w1=parameters[\"w1\"]\n",
    "    b1=parameters[\"b1\"]\n",
    "    w2=parameters[\"w2\"]\n",
    "    b2=parameters[\"b2\"]\n",
    "    w3=parameters[\"w3\"]\n",
    "    b3=parameters[\"b3\"]\n",
    "    w4=parameters[\"w4\"]\n",
    "    b4=parameters[\"b4\"]\n",
    "    \n",
    "    \n",
    "    Z1=np.dot(w1,X)+b1\n",
    "    A1=relu(Z1)             # np.tanh python fn\n",
    "    Z2=np.dot(w2,A1)+b2\n",
    "    A2=relu(Z2)\n",
    "    Z3=np.dot(w3,A2)+b3\n",
    "    A3=leakyrelu(Z3)\n",
    "    Z4=np.dot(w4,A3)+b4\n",
    "    A4=sigmoid(Z4)\n",
    "    \n",
    "    cache={'Z1':Z1,'A1':A1,'Z2':Z2,'A2':A2,'Z3':Z3,'A3':A3,'Z4':Z4,'A4':A4}\n",
    "    return A4,cache"
   ]
  },
  {
   "cell_type": "code",
   "execution_count": 24,
   "id": "bac1ff6e",
   "metadata": {},
   "outputs": [],
   "source": [
    "## cost\n",
    "\n",
    "def compute_cost(A4,y):\n",
    "    m=y.shape[1]\n",
    "    logp=np.multiply(np.log(A4),y)+np.multiply(np.log(1-A4),(1-y))\n",
    "    cost=-np.sum(logp)/m\n",
    "    cost=float(np.squeeze(cost))\n",
    "    return cost"
   ]
  },
  {
   "cell_type": "code",
   "execution_count": 25,
   "id": "8c42a017",
   "metadata": {},
   "outputs": [],
   "source": [
    "n_x,n_h1,n_h2,n_h3,n_y=layers_size(X,y,4,3,2)"
   ]
  },
  {
   "cell_type": "code",
   "execution_count": 26,
   "id": "48c07cad",
   "metadata": {},
   "outputs": [],
   "source": [
    "parameters=intz(n_x,n_h1,n_h2,n_h3,n_y)"
   ]
  },
  {
   "cell_type": "code",
   "execution_count": 27,
   "id": "ae9004ff",
   "metadata": {},
   "outputs": [],
   "source": [
    "A4,cache=fwd(X,parameters)"
   ]
  },
  {
   "cell_type": "code",
   "execution_count": 28,
   "id": "a3032a35",
   "metadata": {},
   "outputs": [
    {
     "data": {
      "text/plain": [
       "0.6931471803573696"
      ]
     },
     "execution_count": 28,
     "metadata": {},
     "output_type": "execute_result"
    }
   ],
   "source": [
    "compute_cost(A4,y)"
   ]
  },
  {
   "cell_type": "code",
   "execution_count": 29,
   "id": "6aa9e257",
   "metadata": {},
   "outputs": [],
   "source": [
    "## calculating gradient\n",
    "\n",
    "def dsigmoid(s):\n",
    "    das=s*(1-s)\n",
    "    return das\n",
    "\n",
    "def dtanh(s):\n",
    "    dat=(1-s**2)\n",
    "    return dat\n",
    "\n",
    "def drelu(s):\n",
    "    dar=(np.int64(s>0))\n",
    "    return dar\n",
    "\n",
    "def dlrelu(s,alpha=0.01):\n",
    "    dal=np.where(s>0,1,alpha)\n",
    "    return dal"
   ]
  },
  {
   "cell_type": "code",
   "execution_count": 56,
   "id": "0c92a02d",
   "metadata": {},
   "outputs": [],
   "source": [
    "def BWP(parameters,X,y,cache):\n",
    "    w1=parameters[\"w1\"]\n",
    "    b1=parameters[\"b1\"]\n",
    "    w2=parameters[\"w2\"]\n",
    "    b2=parameters[\"b2\"]\n",
    "    w3=parameters[\"w3\"]\n",
    "    b3=parameters[\"b3\"]\n",
    "    w4=parameters[\"w4\"]\n",
    "    b4=parameters[\"b4\"]\n",
    "    \n",
    "    A1=cache['A1']\n",
    "    A2=cache['A2']\n",
    "    A3=cache['A3']\n",
    "    A4=cache['A4']\n",
    "    \n",
    "    m=y.shape[1]       ##y.size\n",
    "    \n",
    "    dZ4=A4-y\n",
    "    dW4=np.dot(dZ4,A3.T)/m\n",
    "    db4=np.sum(dZ4,axis=1,keepdims=True)/m\n",
    "    dA3=np.dot(w4.T,dZ4)\n",
    "    dZ3=dA3*dlrelu(A3)\n",
    "    dW3=np.dot(dZ3,A2.T)/m\n",
    "    db3=np.sum(dZ3,axis=1,keepdims=True)/m\n",
    "    dA2=np.dot(w3.T,dZ3)\n",
    "    dZ2=dA2*drelu(A2)\n",
    "    dW2=np.dot(dZ2,A1.T)/m\n",
    "    db2=np.sum(dZ2,axis=1,keepdims=True)/m\n",
    "    dA1=np.dot(w2.T,dZ2)\n",
    "    dZ1=dA1*drelu(A1)\n",
    "    dW1=np.dot(dZ1,X.T)/m\n",
    "    db1=np.sum(dZ1,axis=1,keepdims=True)/m\n",
    "    \n",
    "    \n",
    "    grades={\"dW2\":dW2,\"db2\":db2,\"dW1\":dW1,\"db1\":db1,\"dW3\":dW3,\"db3\":db3,\"dW4\":dW4,\"db4\":db4}\n",
    "\n",
    "    return grades"
   ]
  },
  {
   "cell_type": "code",
   "execution_count": 57,
   "id": "e4ddc565",
   "metadata": {},
   "outputs": [],
   "source": [
    "##7.Update Grades\n",
    "def update(parameters,grades,lr=0.01):\n",
    "    w1=parameters[\"w1\"]\n",
    "    b1=parameters[\"b1\"]\n",
    "    w2=parameters[\"w2\"]\n",
    "    b2=parameters[\"b2\"]\n",
    "    w3=parameters[\"w3\"]\n",
    "    b3=parameters[\"b3\"]\n",
    "    w4=parameters[\"w4\"]\n",
    "    b4=parameters[\"b4\"]\n",
    "\n",
    "    dW1=grades[\"dW1\"]\n",
    "    db1=grades[\"db1\"]\n",
    "    dW2=grades[\"dW2\"]\n",
    "    db2=grades[\"db2\"]\n",
    "    dW3=grades[\"dW3\"]\n",
    "    db3=grades[\"db3\"]\n",
    "    dW4=grades[\"dW4\"]\n",
    "    db4=grades[\"db4\"]\n",
    "\n",
    "\n",
    "    w1=w1-lr*dW1\n",
    "    b1=b1-lr*db1\n",
    "    w2=w2-lr*dW2\n",
    "    b2=b2-lr*db2\n",
    "    w3=w3-lr*dW3\n",
    "    b3=b3-lr*db3\n",
    "    w4=w4-lr*dW4\n",
    "    b4=b4-lr*db4\n",
    "\n",
    "    parameters={\"w1\":w1,\"b1\":b1,\"w2\":w2,\"b2\":b2,\"w3\":w3,\"b3\":b3,\"w4\":w4,\"b4\":b4}\n",
    "\n",
    "    return parameters"
   ]
  },
  {
   "cell_type": "code",
   "execution_count": 58,
   "id": "420c9134",
   "metadata": {},
   "outputs": [],
   "source": [
    "\n",
    "def NN(X,y,itr=10000,print_cost=True,node1=4,node2=3,node3=2):\n",
    "    np.random.seed(3)\n",
    "    n_x,n_h1,n_h2,n_h3,n_y=layers_size(X,y,node1,node2,node3)\n",
    "    \n",
    "    \n",
    "    parameters=intz(n_x,n_h1,n_h2,n_h3,n_y)\n",
    "    \n",
    "    for i in range(0,itr):\n",
    "        A4,cache=fwd(X,parameters)\n",
    "        cost=compute_cost(A4,y)\n",
    "        grades=BWP(parameters,X,y,cache)\n",
    "        parameters=update(parameters,grades,lr=0.01)\n",
    "        \n",
    "        if print_cost and i%100==0:\n",
    "            print(\"cost %i:%f\"%(i,cost))\n",
    "    \n",
    "    return parameters\n",
    "    "
   ]
  },
  {
   "cell_type": "code",
   "execution_count": 59,
   "id": "25a50ee2",
   "metadata": {},
   "outputs": [
    {
     "name": "stdout",
     "output_type": "stream",
     "text": [
      "cost 0:0.693147\n",
      "cost 100:0.685270\n",
      "cost 200:0.680490\n",
      "cost 300:0.677584\n",
      "cost 400:0.675813\n",
      "cost 500:0.674731\n",
      "cost 600:0.674068\n",
      "cost 700:0.673662\n",
      "cost 800:0.673412\n",
      "cost 900:0.673259\n",
      "cost 1000:0.673164\n",
      "cost 1100:0.673106\n",
      "cost 1200:0.673070\n",
      "cost 1300:0.673048\n",
      "cost 1400:0.673034\n",
      "cost 1500:0.673025\n",
      "cost 1600:0.673020\n",
      "cost 1700:0.673017\n",
      "cost 1800:0.673015\n",
      "cost 1900:0.673014\n",
      "cost 2000:0.673013\n",
      "cost 2100:0.673012\n",
      "cost 2200:0.673012\n",
      "cost 2300:0.673012\n",
      "cost 2400:0.673012\n",
      "cost 2500:0.673012\n",
      "cost 2600:0.673012\n",
      "cost 2700:0.673012\n",
      "cost 2800:0.673012\n",
      "cost 2900:0.673012\n",
      "cost 3000:0.673012\n",
      "cost 3100:0.673012\n",
      "cost 3200:0.673012\n",
      "cost 3300:0.673012\n",
      "cost 3400:0.673012\n",
      "cost 3500:0.673012\n",
      "cost 3600:0.673012\n",
      "cost 3700:0.673012\n",
      "cost 3800:0.673012\n",
      "cost 3900:0.673012\n",
      "cost 4000:0.673012\n",
      "cost 4100:0.673012\n",
      "cost 4200:0.673012\n",
      "cost 4300:0.673012\n",
      "cost 4400:0.673012\n",
      "cost 4500:0.673012\n",
      "cost 4600:0.673012\n",
      "cost 4700:0.673012\n",
      "cost 4800:0.673012\n",
      "cost 4900:0.673012\n",
      "cost 5000:0.673012\n",
      "cost 5100:0.673012\n",
      "cost 5200:0.673012\n",
      "cost 5300:0.673012\n",
      "cost 5400:0.673012\n",
      "cost 5500:0.673012\n",
      "cost 5600:0.673012\n",
      "cost 5700:0.673012\n",
      "cost 5800:0.673012\n",
      "cost 5900:0.673012\n",
      "cost 6000:0.673012\n",
      "cost 6100:0.673012\n",
      "cost 6200:0.673012\n",
      "cost 6300:0.673012\n",
      "cost 6400:0.673012\n",
      "cost 6500:0.673012\n",
      "cost 6600:0.673012\n",
      "cost 6700:0.673012\n",
      "cost 6800:0.673012\n",
      "cost 6900:0.673012\n",
      "cost 7000:0.673012\n",
      "cost 7100:0.673012\n",
      "cost 7200:0.673012\n",
      "cost 7300:0.673012\n",
      "cost 7400:0.673012\n",
      "cost 7500:0.673012\n",
      "cost 7600:0.673012\n",
      "cost 7700:0.673012\n",
      "cost 7800:0.673012\n",
      "cost 7900:0.673012\n",
      "cost 8000:0.673012\n",
      "cost 8100:0.673012\n",
      "cost 8200:0.673012\n",
      "cost 8300:0.673012\n",
      "cost 8400:0.673012\n",
      "cost 8500:0.673012\n",
      "cost 8600:0.673012\n",
      "cost 8700:0.673012\n",
      "cost 8800:0.673012\n",
      "cost 8900:0.673012\n",
      "cost 9000:0.673012\n",
      "cost 9100:0.673012\n",
      "cost 9200:0.673012\n",
      "cost 9300:0.673012\n",
      "cost 9400:0.673012\n",
      "cost 9500:0.673012\n",
      "cost 9600:0.673012\n",
      "cost 9700:0.673012\n",
      "cost 9800:0.673012\n",
      "cost 9900:0.673012\n"
     ]
    },
    {
     "data": {
      "text/plain": [
       "{'w1': array([[ 0.01788628,  0.0043651 ,  0.00096497, -0.01863493],\n",
       "        [-0.00277422, -0.00354786, -0.00082766, -0.00626996],\n",
       "        [-0.00043747, -0.00477187, -0.01313849,  0.00884632],\n",
       "        [ 0.00881317,  0.01709575,  0.00050035, -0.00404675]]),\n",
       " 'b1': array([[ 0.00000000e+00],\n",
       "        [ 2.84256965e-07],\n",
       "        [-2.17539857e-07],\n",
       "        [ 3.05554575e-08]]),\n",
       " 'w2': array([[-0.0054536 , -0.01546485,  0.00982306, -0.01101068],\n",
       "        [-0.01185047, -0.00205664,  0.01486167,  0.00236723],\n",
       "        [-0.01023785, -0.00712997,  0.0062525 , -0.00160513]]),\n",
       " 'b2': array([[-3.36367621e-05],\n",
       "        [ 2.01635457e-05],\n",
       "        [ 1.94454447e-06]]),\n",
       " 'w3': array([[-0.00768845, -0.00230039,  0.00745051],\n",
       "        [ 0.01976086, -0.01244149, -0.00626434]]),\n",
       " 'b3': array([[-3.25900093e-05],\n",
       "        [-9.80856373e-05]]),\n",
       " 'w4': array([[-0.00803778, -0.024191  ]]),\n",
       " 'b4': array([[0.40546508]])}"
      ]
     },
     "execution_count": 59,
     "metadata": {},
     "output_type": "execute_result"
    }
   ],
   "source": [
    "NN(X,y)"
   ]
  },
  {
   "cell_type": "code",
   "execution_count": null,
   "id": "c73c4795",
   "metadata": {},
   "outputs": [],
   "source": []
  },
  {
   "cell_type": "code",
   "execution_count": null,
   "id": "824e3447",
   "metadata": {},
   "outputs": [],
   "source": []
  }
 ],
 "metadata": {
  "kernelspec": {
   "display_name": "Python 3 (ipykernel)",
   "language": "python",
   "name": "python3"
  },
  "language_info": {
   "codemirror_mode": {
    "name": "ipython",
    "version": 3
   },
   "file_extension": ".py",
   "mimetype": "text/x-python",
   "name": "python",
   "nbconvert_exporter": "python",
   "pygments_lexer": "ipython3",
   "version": "3.9.13"
  }
 },
 "nbformat": 4,
 "nbformat_minor": 5
}
