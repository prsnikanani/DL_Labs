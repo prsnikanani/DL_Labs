{
 "cells": [
  {
   "cell_type": "code",
   "execution_count": 1,
   "metadata": {},
   "outputs": [],
   "source": [
    "import keras\n",
    "import os\n",
    "import cv2\n",
    "import numpy as np  \n",
    "import pandas as pd \n",
    "import seaborn as sns     \n",
    "import tensorflow as tf \n",
    "from termcolor import colored  \n",
    "import matplotlib.pyplot as plt  \n",
    "from IPython.display import display\n",
    "from keras.models import Sequential\n",
    "from keras import models, layers, optimizers\n",
    "from keras.callbacks import ModelCheckpoint, ReduceLROnPlateau\n",
    "from sklearn.metrics import confusion_matrix, classification_report\n",
    "from keras.layers import Conv2D, MaxPooling2D, Flatten, Dense, Dropout, BatchNormalization, Reshape\n",
    "sns.set_style('whitegrid')\n",
    "import tensorflow as tf\n",
    "from tensorflow.keras.models import Sequential\n",
    "from tensorflow.keras.layers import Conv2D, MaxPooling2D, Flatten, Dense"
   ]
  },
  {
   "cell_type": "code",
   "execution_count": 2,
   "metadata": {},
   "outputs": [
    {
     "name": "stdout",
     "output_type": "stream",
     "text": [
      "['Arborio', 'Basmati', 'Ipsala', 'Jasmine', 'Karacadag']\n"
     ]
    }
   ],
   "source": [
    "dir1 = r\"C:\\Users\\jash1\\Downloads\\archive (8)\\Rice_Image_Dataset\"\n",
    "# Detect classes\n",
    "detection = [class_name for class_name in os.listdir(dir1) if class_name]\n",
    "detection.remove('Rice_Citation_Request.txt')\n",
    "print(detection)"
   ]
  },
  {
   "cell_type": "code",
   "execution_count": 3,
   "metadata": {},
   "outputs": [],
   "source": [
    "image_data = []  # Initialize an empty list for storing image paths and labels\n",
    "\n",
    "# Iterate through each class in the detection\n",
    "for class_name in detection:\n",
    "    class_path = os.path.join(dir1, class_name)  # Create the path for the class\n",
    "    files = os.listdir(class_path)  # List all files in the class folder\n",
    "    \n",
    "    # Loop through all files and add their paths and class labels to the image_data list\n",
    "    for file in files:\n",
    "        file_path = os.path.join(class_path, file)  # Create the full file path\n",
    "        image_data.append((file_path, class_name))  # Append tuple to the list\n",
    "\n",
    "# Convert the list to a pandas DataFrame\n",
    "df = pd.DataFrame(image_data, columns=['path', 'label'])\n",
    "\n",
    "# Shuffle the DataFrame rows for randomness\n",
    "df = df.sample(frac=1).reset_index(drop=True)"
   ]
  },
  {
   "cell_type": "code",
   "execution_count": 4,
   "metadata": {},
   "outputs": [
    {
     "data": {
      "text/html": [
       "<div>\n",
       "<style scoped>\n",
       "    .dataframe tbody tr th:only-of-type {\n",
       "        vertical-align: middle;\n",
       "    }\n",
       "\n",
       "    .dataframe tbody tr th {\n",
       "        vertical-align: top;\n",
       "    }\n",
       "\n",
       "    .dataframe thead th {\n",
       "        text-align: right;\n",
       "    }\n",
       "</style>\n",
       "<table border=\"1\" class=\"dataframe\">\n",
       "  <thead>\n",
       "    <tr style=\"text-align: right;\">\n",
       "      <th></th>\n",
       "      <th>path</th>\n",
       "      <th>label</th>\n",
       "    </tr>\n",
       "  </thead>\n",
       "  <tbody>\n",
       "    <tr>\n",
       "      <th>0</th>\n",
       "      <td>C:\\Users\\jash1\\Downloads\\archive (8)\\Rice_Imag...</td>\n",
       "      <td>Basmati</td>\n",
       "    </tr>\n",
       "    <tr>\n",
       "      <th>1</th>\n",
       "      <td>C:\\Users\\jash1\\Downloads\\archive (8)\\Rice_Imag...</td>\n",
       "      <td>Basmati</td>\n",
       "    </tr>\n",
       "    <tr>\n",
       "      <th>2</th>\n",
       "      <td>C:\\Users\\jash1\\Downloads\\archive (8)\\Rice_Imag...</td>\n",
       "      <td>Ipsala</td>\n",
       "    </tr>\n",
       "    <tr>\n",
       "      <th>3</th>\n",
       "      <td>C:\\Users\\jash1\\Downloads\\archive (8)\\Rice_Imag...</td>\n",
       "      <td>Basmati</td>\n",
       "    </tr>\n",
       "    <tr>\n",
       "      <th>4</th>\n",
       "      <td>C:\\Users\\jash1\\Downloads\\archive (8)\\Rice_Imag...</td>\n",
       "      <td>Jasmine</td>\n",
       "    </tr>\n",
       "    <tr>\n",
       "      <th>...</th>\n",
       "      <td>...</td>\n",
       "      <td>...</td>\n",
       "    </tr>\n",
       "    <tr>\n",
       "      <th>74995</th>\n",
       "      <td>C:\\Users\\jash1\\Downloads\\archive (8)\\Rice_Imag...</td>\n",
       "      <td>Ipsala</td>\n",
       "    </tr>\n",
       "    <tr>\n",
       "      <th>74996</th>\n",
       "      <td>C:\\Users\\jash1\\Downloads\\archive (8)\\Rice_Imag...</td>\n",
       "      <td>Basmati</td>\n",
       "    </tr>\n",
       "    <tr>\n",
       "      <th>74997</th>\n",
       "      <td>C:\\Users\\jash1\\Downloads\\archive (8)\\Rice_Imag...</td>\n",
       "      <td>Arborio</td>\n",
       "    </tr>\n",
       "    <tr>\n",
       "      <th>74998</th>\n",
       "      <td>C:\\Users\\jash1\\Downloads\\archive (8)\\Rice_Imag...</td>\n",
       "      <td>Basmati</td>\n",
       "    </tr>\n",
       "    <tr>\n",
       "      <th>74999</th>\n",
       "      <td>C:\\Users\\jash1\\Downloads\\archive (8)\\Rice_Imag...</td>\n",
       "      <td>Jasmine</td>\n",
       "    </tr>\n",
       "  </tbody>\n",
       "</table>\n",
       "<p>75000 rows × 2 columns</p>\n",
       "</div>"
      ],
      "text/plain": [
       "                                                    path    label\n",
       "0      C:\\Users\\jash1\\Downloads\\archive (8)\\Rice_Imag...  Basmati\n",
       "1      C:\\Users\\jash1\\Downloads\\archive (8)\\Rice_Imag...  Basmati\n",
       "2      C:\\Users\\jash1\\Downloads\\archive (8)\\Rice_Imag...   Ipsala\n",
       "3      C:\\Users\\jash1\\Downloads\\archive (8)\\Rice_Imag...  Basmati\n",
       "4      C:\\Users\\jash1\\Downloads\\archive (8)\\Rice_Imag...  Jasmine\n",
       "...                                                  ...      ...\n",
       "74995  C:\\Users\\jash1\\Downloads\\archive (8)\\Rice_Imag...   Ipsala\n",
       "74996  C:\\Users\\jash1\\Downloads\\archive (8)\\Rice_Imag...  Basmati\n",
       "74997  C:\\Users\\jash1\\Downloads\\archive (8)\\Rice_Imag...  Arborio\n",
       "74998  C:\\Users\\jash1\\Downloads\\archive (8)\\Rice_Imag...  Basmati\n",
       "74999  C:\\Users\\jash1\\Downloads\\archive (8)\\Rice_Imag...  Jasmine\n",
       "\n",
       "[75000 rows x 2 columns]"
      ]
     },
     "execution_count": 4,
     "metadata": {},
     "output_type": "execute_result"
    }
   ],
   "source": [
    "df"
   ]
  },
  {
   "cell_type": "code",
   "execution_count": 5,
   "metadata": {},
   "outputs": [
    {
     "data": {
      "text/plain": [
       "<matplotlib.image.AxesImage at 0x1c3dc038e50>"
      ]
     },
     "execution_count": 5,
     "metadata": {},
     "output_type": "execute_result"
    },
    {
     "data": {
      "image/png": "[encoded data removed]",
      "text/plain": [
       "<Figure size 640x480 with 1 Axes>"
      ]
     },
     "metadata": {},
     "output_type": "display_data"
    }
   ],
   "source": [
    "img = cv2.imread(df.iloc[0]['path'])\n",
    "plt.imshow(img)"
   ]
  },
  {
   "cell_type": "code",
   "execution_count": 6,
   "metadata": {},
   "outputs": [
    {
     "name": "stdout",
     "output_type": "stream",
     "text": [
      "Found 60000 validated image filenames belonging to 5 classes.\n",
      "Found 7500 validated image filenames belonging to 5 classes.\n",
      "Found 7500 validated image filenames belonging to 5 classes.\n"
     ]
    }
   ],
   "source": [
    "from tensorflow.keras.preprocessing.image import ImageDataGenerator\n",
    "from tensorflow.keras.models import Sequential\n",
    "from tensorflow.keras.layers import Conv2D, MaxPooling2D, Flatten, Dense, Dropout\n",
    "from tensorflow.keras.callbacks import EarlyStopping, ReduceLROnPlateau\n",
    "\n",
    "training_data = df[:60000]\n",
    "validation_data = df[60000:67500]\n",
    "test_data = df[67500:]\n",
    "\n",
    "IMAGE_SIZE = (250, 250)\n",
    "BATCH_SIZE = 32\n",
    "EPOCHS = 10\n",
    "\n",
    "data_gen = ImageDataGenerator(\n",
    "    rescale=1.0/255,\n",
    "    rotation_range=20,\n",
    "    width_shift_range=0.2,\n",
    "    height_shift_range=0.2,\n",
    "    shear_range=0.2,\n",
    "    zoom_range=0.2,\n",
    "    horizontal_flip=True,\n",
    "    fill_mode='nearest'\n",
    ")\n",
    "\n",
    "def create_data_generator(dataframe, is_training=False):\n",
    "    return data_gen.flow_from_dataframe(\n",
    "        dataframe,\n",
    "        x_col='path',\n",
    "        y_col='label',\n",
    "        target_size=IMAGE_SIZE,\n",
    "        batch_size=BATCH_SIZE,\n",
    "        class_mode='categorical',\n",
    "        shuffle=is_training\n",
    "    )\n",
    "\n",
    "train_generator = create_data_generator(training_data, is_training=True)\n",
    "valid_generator = create_data_generator(validation_data, is_training=False)\n",
    "test_generator = create_data_generator(test_data, is_training=False)\n",
    "\n",
    "images, labels = next(train_generator)"
   ]
  },
  {
   "cell_type": "code",
   "execution_count": 7,
   "metadata": {},
   "outputs": [
    {
     "name": "stdout",
     "output_type": "stream",
     "text": [
      "Model: \"sequential\"\n",
      "_________________________________________________________________\n",
      " Layer (type)                Output Shape              Param #   \n",
      "=================================================================\n",
      " conv2d (Conv2D)             (None, 248, 248, 32)      896       \n",
      "                                                                 \n",
      " max_pooling2d (MaxPooling2D  (None, 124, 124, 32)     0         \n",
      " )                                                               \n",
      "                                                                 \n",
      " dropout (Dropout)           (None, 124, 124, 32)      0         \n",
      "                                                                 \n",
      " conv2d_1 (Conv2D)           (None, 122, 122, 64)      18496     \n",
      "                                                                 \n",
      " max_pooling2d_1 (MaxPooling  (None, 61, 61, 64)       0         \n",
      " 2D)                                                             \n",
      "                                                                 \n",
      " dropout_1 (Dropout)         (None, 61, 61, 64)        0         \n",
      "                                                                 \n",
      " conv2d_2 (Conv2D)           (None, 59, 59, 128)       73856     \n",
      "                                                                 \n",
      " max_pooling2d_2 (MaxPooling  (None, 29, 29, 128)      0         \n",
      " 2D)                                                             \n",
      "                                                                 \n",
      " dropout_2 (Dropout)         (None, 29, 29, 128)       0         \n",
      "                                                                 \n",
      " conv2d_3 (Conv2D)           (None, 27, 27, 256)       295168    \n",
      "                                                                 \n",
      " max_pooling2d_3 (MaxPooling  (None, 13, 13, 256)      0         \n",
      " 2D)                                                             \n",
      "                                                                 \n",
      " dropout_3 (Dropout)         (None, 13, 13, 256)       0         \n",
      "                                                                 \n",
      " flatten (Flatten)           (None, 43264)             0         \n",
      "                                                                 \n",
      " dense (Dense)               (None, 512)               22151680  \n",
      "                                                                 \n",
      " dropout_4 (Dropout)         (None, 512)               0         \n",
      "                                                                 \n",
      " dense_1 (Dense)             (None, 256)               131328    \n",
      "                                                                 \n",
      " dropout_5 (Dropout)         (None, 256)               0         \n",
      "                                                                 \n",
      " dense_2 (Dense)             (None, 5)                 1285      \n",
      "                                                                 \n",
      "=================================================================\n",
      "Total params: 22,672,709\n",
      "Trainable params: 22,672,709\n",
      "Non-trainable params: 0\n",
      "_________________________________________________________________\n",
      "Epoch 1/10\n",
      "1875/1875 [==============================] - 884s 469ms/step - loss: 0.5011 - accuracy: 0.8084 - val_loss: 0.2282 - val_accuracy: 0.9224 - lr: 0.0010\n",
      "Epoch 2/10\n",
      "1875/1875 [==============================] - 735s 392ms/step - loss: 0.2177 - accuracy: 0.9256 - val_loss: 0.1992 - val_accuracy: 0.9297 - lr: 0.0010\n",
      "Epoch 3/10\n",
      "1875/1875 [==============================] - 738s 394ms/step - loss: 0.2006 - accuracy: 0.9331 - val_loss: 0.2308 - val_accuracy: 0.9107 - lr: 0.0010\n",
      "Epoch 4/10\n",
      "1875/1875 [==============================] - 567s 302ms/step - loss: 0.1993 - accuracy: 0.9330 - val_loss: 0.2613 - val_accuracy: 0.9045 - lr: 0.0010\n",
      "Epoch 5/10\n",
      "1875/1875 [==============================] - 529s 282ms/step - loss: 0.1789 - accuracy: 0.9411 - val_loss: 0.1740 - val_accuracy: 0.9367 - lr: 0.0010\n",
      "Epoch 6/10\n",
      "1875/1875 [==============================] - 839s 448ms/step - loss: 0.1711 - accuracy: 0.9455 - val_loss: 0.1923 - val_accuracy: 0.9332 - lr: 0.0010\n",
      "Epoch 7/10\n",
      "1875/1875 [==============================] - 595s 317ms/step - loss: 0.1563 - accuracy: 0.9518 - val_loss: 0.7730 - val_accuracy: 0.8161 - lr: 0.0010\n",
      "Epoch 8/10\n",
      "1875/1875 [==============================] - 504s 269ms/step - loss: 0.1449 - accuracy: 0.9568 - val_loss: 0.2046 - val_accuracy: 0.9267 - lr: 0.0010\n",
      "Epoch 9/10\n",
      "1875/1875 [==============================] - 505s 269ms/step - loss: 0.0652 - accuracy: 0.9790 - val_loss: 0.2462 - val_accuracy: 0.9239 - lr: 2.0000e-04\n",
      "Epoch 10/10\n",
      "1875/1875 [==============================] - 501s 267ms/step - loss: 0.0571 - accuracy: 0.9821 - val_loss: 0.1730 - val_accuracy: 0.9373 - lr: 2.0000e-04\n"
     ]
    }
   ],
   "source": [
    "model = Sequential()\n",
    "model.add(Conv2D(32, (3, 3), activation='relu', input_shape=(250, 250, 3)))\n",
    "model.add(MaxPooling2D(pool_size=(2, 2)))\n",
    "model.add(Dropout(0.25))\n",
    "\n",
    "model.add(Conv2D(64, (3, 3), activation='selu'))\n",
    "model.add(MaxPooling2D(pool_size=(2, 2)))\n",
    "model.add(Dropout(0.25))\n",
    "\n",
    "model.add(Conv2D(128, (3, 3), activation='relu'))\n",
    "model.add(MaxPooling2D(pool_size=(2, 2)))\n",
    "model.add(Dropout(0.25))\n",
    "\n",
    "model.add(Conv2D(256, (3, 3), activation='selu'))\n",
    "model.add(MaxPooling2D(pool_size=(2, 2)))\n",
    "model.add(Dropout(0.25))\n",
    "\n",
    "model.add(Flatten())\n",
    "\n",
    "model.add(Dense(512, activation='relu'))\n",
    "model.add(Dropout(0.5))\n",
    "model.add(Dense(256, activation='selu'))\n",
    "model.add(Dropout(0.5))\n",
    "\n",
    "n_classes = len(train_generator.class_indices)\n",
    "model.add(Dense(n_classes, activation='softmax'))\n",
    "\n",
    "model.compile(optimizer='adam', loss='categorical_crossentropy', metrics=['accuracy'])\n",
    "model.summary()\n",
    "\n",
    "early_stopping = EarlyStopping(monitor='val_loss', patience=5, restore_best_weights=True)\n",
    "reduce_lr = ReduceLROnPlateau(monitor='val_loss', factor=0.2, patience=3, min_lr=0.0001)\n",
    "\n",
    "history = model.fit(\n",
    "    train_generator,\n",
    "    epochs=EPOCHS,\n",
    "    validation_data=valid_generator,\n",
    "    callbacks=[early_stopping, reduce_lr]\n",
    ")\n"
   ]
  },
  {
   "cell_type": "code",
   "execution_count": 8,
   "metadata": {},
   "outputs": [
    {
     "name": "stdout",
     "output_type": "stream",
     "text": [
      "235/235 [==============================] - 89s 377ms/step - loss: 0.1645 - accuracy: 0.9429\n",
      "Test Accuracy: 94.29%\n"
     ]
    }
   ],
   "source": [
    "test_loss, test_accuracy = model.evaluate(test_generator)\n",
    "print(f'Test Accuracy: {test_accuracy * 100:.2f}%')"
   ]
  },
  {
   "cell_type": "code",
   "execution_count": null,
   "metadata": {},
   "outputs": [],
   "source": []
  }
 ],
 "metadata": {
  "kernelspec": {
   "display_name": "tf",
   "language": "python",
   "name": "python3"
  },
  "language_info": {
   "codemirror_mode": {
    "name": "ipython",
    "version": 3
   },
   "file_extension": ".py",
   "mimetype": "text/x-python",
   "name": "python",
   "nbconvert_exporter": "python",
   "pygments_lexer": "ipython3",
   "version": "3.9.19"
  }
 },
 "nbformat": 4,
 "nbformat_minor": 2
}
